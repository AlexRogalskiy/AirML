{
 "cells": [
  {
   "cell_type": "code",
   "execution_count": 1,
   "metadata": {
    "collapsed": true
   },
   "outputs": [],
   "source": [
    "import pandas as pd\n",
    "from sklearn.model_selection import train_test_split\n",
    "import numpy as np\n",
    "from sklearn.utils import shuffle"
   ]
  },
  {
   "cell_type": "code",
   "execution_count": 2,
   "metadata": {
    "collapsed": true
   },
   "outputs": [],
   "source": [
    "train=pd.read_csv(\"filteredclassificationdata.csv\")"
   ]
  },
  {
   "cell_type": "code",
   "execution_count": 6,
   "metadata": {},
   "outputs": [
    {
     "data": {
      "text/html": [
       "<div>\n",
       "<style>\n",
       "    .dataframe thead tr:only-child th {\n",
       "        text-align: right;\n",
       "    }\n",
       "\n",
       "    .dataframe thead th {\n",
       "        text-align: left;\n",
       "    }\n",
       "\n",
       "    .dataframe tbody tr th {\n",
       "        vertical-align: top;\n",
       "    }\n",
       "</style>\n",
       "<table border=\"1\" class=\"dataframe\">\n",
       "  <thead>\n",
       "    <tr style=\"text-align: right;\">\n",
       "      <th></th>\n",
       "      <th>label1</th>\n",
       "      <th>a11</th>\n",
       "      <th>a4</th>\n",
       "      <th>a15</th>\n",
       "      <th>a21</th>\n",
       "      <th>a17</th>\n",
       "      <th>a3</th>\n",
       "      <th>a20</th>\n",
       "      <th>a2</th>\n",
       "      <th>a12</th>\n",
       "      <th>...</th>\n",
       "      <th>a9</th>\n",
       "      <th>s9</th>\n",
       "      <th>a14</th>\n",
       "      <th>s14</th>\n",
       "      <th>sd6</th>\n",
       "      <th>a6</th>\n",
       "      <th>sd9</th>\n",
       "      <th>sd14</th>\n",
       "      <th>s6</th>\n",
       "      <th>sd13</th>\n",
       "    </tr>\n",
       "  </thead>\n",
       "  <tbody>\n",
       "    <tr>\n",
       "      <th>0</th>\n",
       "      <td>0</td>\n",
       "      <td>0.401786</td>\n",
       "      <td>0.289887</td>\n",
       "      <td>0.420517</td>\n",
       "      <td>0.778606</td>\n",
       "      <td>0.263158</td>\n",
       "      <td>0.475892</td>\n",
       "      <td>0.777542</td>\n",
       "      <td>0.143969</td>\n",
       "      <td>0.650294</td>\n",
       "      <td>...</td>\n",
       "      <td>0.094489</td>\n",
       "      <td>0.109755</td>\n",
       "      <td>0.197843</td>\n",
       "      <td>0.199608</td>\n",
       "      <td>0.0</td>\n",
       "      <td>1.0</td>\n",
       "      <td>0.000000</td>\n",
       "      <td>0.000000</td>\n",
       "      <td>1</td>\n",
       "      <td>0.000000</td>\n",
       "    </tr>\n",
       "    <tr>\n",
       "      <th>1</th>\n",
       "      <td>0</td>\n",
       "      <td>0.409226</td>\n",
       "      <td>0.317735</td>\n",
       "      <td>0.449510</td>\n",
       "      <td>0.782999</td>\n",
       "      <td>0.263158</td>\n",
       "      <td>0.506134</td>\n",
       "      <td>0.745763</td>\n",
       "      <td>0.208171</td>\n",
       "      <td>0.733049</td>\n",
       "      <td>...</td>\n",
       "      <td>0.089086</td>\n",
       "      <td>0.100242</td>\n",
       "      <td>0.177780</td>\n",
       "      <td>0.162813</td>\n",
       "      <td>0.0</td>\n",
       "      <td>1.0</td>\n",
       "      <td>0.118087</td>\n",
       "      <td>0.508246</td>\n",
       "      <td>1</td>\n",
       "      <td>0.160656</td>\n",
       "    </tr>\n",
       "    <tr>\n",
       "      <th>2</th>\n",
       "      <td>0</td>\n",
       "      <td>0.357143</td>\n",
       "      <td>0.334766</td>\n",
       "      <td>0.437174</td>\n",
       "      <td>0.733906</td>\n",
       "      <td>0.175439</td>\n",
       "      <td>0.479791</td>\n",
       "      <td>0.717514</td>\n",
       "      <td>0.255512</td>\n",
       "      <td>0.773091</td>\n",
       "      <td>...</td>\n",
       "      <td>0.102356</td>\n",
       "      <td>0.140043</td>\n",
       "      <td>0.174356</td>\n",
       "      <td>0.171793</td>\n",
       "      <td>0.0</td>\n",
       "      <td>1.0</td>\n",
       "      <td>0.364881</td>\n",
       "      <td>0.374753</td>\n",
       "      <td>1</td>\n",
       "      <td>0.120224</td>\n",
       "    </tr>\n",
       "    <tr>\n",
       "      <th>3</th>\n",
       "      <td>0</td>\n",
       "      <td>0.305060</td>\n",
       "      <td>0.330508</td>\n",
       "      <td>0.372549</td>\n",
       "      <td>0.723543</td>\n",
       "      <td>0.197368</td>\n",
       "      <td>0.429529</td>\n",
       "      <td>0.684852</td>\n",
       "      <td>0.279183</td>\n",
       "      <td>0.822477</td>\n",
       "      <td>...</td>\n",
       "      <td>0.104581</td>\n",
       "      <td>0.124518</td>\n",
       "      <td>0.173489</td>\n",
       "      <td>0.174889</td>\n",
       "      <td>0.0</td>\n",
       "      <td>1.0</td>\n",
       "      <td>0.305764</td>\n",
       "      <td>0.307559</td>\n",
       "      <td>1</td>\n",
       "      <td>0.133773</td>\n",
       "    </tr>\n",
       "    <tr>\n",
       "      <th>4</th>\n",
       "      <td>0</td>\n",
       "      <td>0.296131</td>\n",
       "      <td>0.347031</td>\n",
       "      <td>0.391477</td>\n",
       "      <td>0.728978</td>\n",
       "      <td>0.236842</td>\n",
       "      <td>0.399715</td>\n",
       "      <td>0.669492</td>\n",
       "      <td>0.294942</td>\n",
       "      <td>0.816337</td>\n",
       "      <td>...</td>\n",
       "      <td>0.111697</td>\n",
       "      <td>0.149960</td>\n",
       "      <td>0.172934</td>\n",
       "      <td>0.174734</td>\n",
       "      <td>0.0</td>\n",
       "      <td>1.0</td>\n",
       "      <td>0.361364</td>\n",
       "      <td>0.267278</td>\n",
       "      <td>1</td>\n",
       "      <td>0.117620</td>\n",
       "    </tr>\n",
       "  </tbody>\n",
       "</table>\n",
       "<p>5 rows × 36 columns</p>\n",
       "</div>"
      ],
      "text/plain": [
       "   label1       a11        a4       a15       a21       a17        a3  \\\n",
       "0       0  0.401786  0.289887  0.420517  0.778606  0.263158  0.475892   \n",
       "1       0  0.409226  0.317735  0.449510  0.782999  0.263158  0.506134   \n",
       "2       0  0.357143  0.334766  0.437174  0.733906  0.175439  0.479791   \n",
       "3       0  0.305060  0.330508  0.372549  0.723543  0.197368  0.429529   \n",
       "4       0  0.296131  0.347031  0.391477  0.728978  0.236842  0.399715   \n",
       "\n",
       "        a20        a2       a12    ...           a9        s9       a14  \\\n",
       "0  0.777542  0.143969  0.650294    ...     0.094489  0.109755  0.197843   \n",
       "1  0.745763  0.208171  0.733049    ...     0.089086  0.100242  0.177780   \n",
       "2  0.717514  0.255512  0.773091    ...     0.102356  0.140043  0.174356   \n",
       "3  0.684852  0.279183  0.822477    ...     0.104581  0.124518  0.173489   \n",
       "4  0.669492  0.294942  0.816337    ...     0.111697  0.149960  0.172934   \n",
       "\n",
       "        s14  sd6   a6       sd9      sd14  s6      sd13  \n",
       "0  0.199608  0.0  1.0  0.000000  0.000000   1  0.000000  \n",
       "1  0.162813  0.0  1.0  0.118087  0.508246   1  0.160656  \n",
       "2  0.171793  0.0  1.0  0.364881  0.374753   1  0.120224  \n",
       "3  0.174889  0.0  1.0  0.305764  0.307559   1  0.133773  \n",
       "4  0.174734  0.0  1.0  0.361364  0.267278   1  0.117620  \n",
       "\n",
       "[5 rows x 36 columns]"
      ]
     },
     "execution_count": 6,
     "metadata": {},
     "output_type": "execute_result"
    }
   ],
   "source": [
    "train.head()"
   ]
  },
  {
   "cell_type": "code",
   "execution_count": 4,
   "metadata": {
    "collapsed": true
   },
   "outputs": [],
   "source": [
    "train = shuffle(train)"
   ]
  },
  {
   "cell_type": "code",
   "execution_count": 5,
   "metadata": {},
   "outputs": [
    {
     "data": {
      "text/plain": [
       "Index(['label1', 'a11', 'a4', 'a15', 'a21', 'a17', 'a3', 'a20', 'a2', 'a12',\n",
       "       'a7', 's11', 's4', 's12', 's7', 's15', 's21', 's20', 's17', 's2', 'a8',\n",
       "       'a13', 's3', 's8', 's13', 'cycle', 'a9', 's9', 'a14', 's14', 'sd6',\n",
       "       'a6', 'sd9', 'sd14', 's6', 'sd13'],\n",
       "      dtype='object')"
      ]
     },
     "execution_count": 5,
     "metadata": {},
     "output_type": "execute_result"
    }
   ],
   "source": [
    "train.columns"
   ]
  },
  {
   "cell_type": "code",
   "execution_count": 6,
   "metadata": {},
   "outputs": [
    {
     "data": {
      "text/plain": [
       "(20631, 36)"
      ]
     },
     "execution_count": 6,
     "metadata": {},
     "output_type": "execute_result"
    }
   ],
   "source": [
    "train.shape"
   ]
  },
  {
   "cell_type": "code",
   "execution_count": 7,
   "metadata": {},
   "outputs": [
    {
     "data": {
      "text/html": [
       "<div>\n",
       "<style>\n",
       "    .dataframe thead tr:only-child th {\n",
       "        text-align: right;\n",
       "    }\n",
       "\n",
       "    .dataframe thead th {\n",
       "        text-align: left;\n",
       "    }\n",
       "\n",
       "    .dataframe tbody tr th {\n",
       "        vertical-align: top;\n",
       "    }\n",
       "</style>\n",
       "<table border=\"1\" class=\"dataframe\">\n",
       "  <thead>\n",
       "    <tr style=\"text-align: right;\">\n",
       "      <th></th>\n",
       "      <th>label1</th>\n",
       "      <th>a11</th>\n",
       "      <th>a4</th>\n",
       "      <th>a15</th>\n",
       "      <th>a21</th>\n",
       "      <th>a17</th>\n",
       "      <th>a3</th>\n",
       "      <th>a20</th>\n",
       "      <th>a2</th>\n",
       "      <th>a12</th>\n",
       "      <th>...</th>\n",
       "      <th>a9</th>\n",
       "      <th>s9</th>\n",
       "      <th>a14</th>\n",
       "      <th>s14</th>\n",
       "      <th>sd6</th>\n",
       "      <th>a6</th>\n",
       "      <th>sd9</th>\n",
       "      <th>sd14</th>\n",
       "      <th>s6</th>\n",
       "      <th>sd13</th>\n",
       "    </tr>\n",
       "  </thead>\n",
       "  <tbody>\n",
       "    <tr>\n",
       "      <th>3023</th>\n",
       "      <td>0</td>\n",
       "      <td>0.424107</td>\n",
       "      <td>0.406806</td>\n",
       "      <td>0.499623</td>\n",
       "      <td>0.682674</td>\n",
       "      <td>0.394737</td>\n",
       "      <td>0.333067</td>\n",
       "      <td>0.705508</td>\n",
       "      <td>0.374319</td>\n",
       "      <td>0.663107</td>\n",
       "      <td>...</td>\n",
       "      <td>0.144858</td>\n",
       "      <td>0.157677</td>\n",
       "      <td>0.191214</td>\n",
       "      <td>0.190422</td>\n",
       "      <td>0.000000</td>\n",
       "      <td>1.0</td>\n",
       "      <td>0.262928</td>\n",
       "      <td>0.146316</td>\n",
       "      <td>1</td>\n",
       "      <td>0.038018</td>\n",
       "    </tr>\n",
       "    <tr>\n",
       "      <th>15300</th>\n",
       "      <td>0</td>\n",
       "      <td>0.596726</td>\n",
       "      <td>0.577274</td>\n",
       "      <td>0.632944</td>\n",
       "      <td>0.413792</td>\n",
       "      <td>0.684211</td>\n",
       "      <td>0.617632</td>\n",
       "      <td>0.370763</td>\n",
       "      <td>0.561868</td>\n",
       "      <td>0.452216</td>\n",
       "      <td>...</td>\n",
       "      <td>0.134124</td>\n",
       "      <td>0.133447</td>\n",
       "      <td>0.162950</td>\n",
       "      <td>0.164981</td>\n",
       "      <td>0.000000</td>\n",
       "      <td>1.0</td>\n",
       "      <td>0.249497</td>\n",
       "      <td>0.391640</td>\n",
       "      <td>1</td>\n",
       "      <td>0.196500</td>\n",
       "    </tr>\n",
       "    <tr>\n",
       "      <th>10017</th>\n",
       "      <td>0</td>\n",
       "      <td>0.291667</td>\n",
       "      <td>0.284843</td>\n",
       "      <td>0.387234</td>\n",
       "      <td>0.631824</td>\n",
       "      <td>0.342105</td>\n",
       "      <td>0.432753</td>\n",
       "      <td>0.718220</td>\n",
       "      <td>0.363424</td>\n",
       "      <td>0.739455</td>\n",
       "      <td>...</td>\n",
       "      <td>0.247818</td>\n",
       "      <td>0.230548</td>\n",
       "      <td>0.285965</td>\n",
       "      <td>0.302921</td>\n",
       "      <td>0.632456</td>\n",
       "      <td>0.8</td>\n",
       "      <td>0.367258</td>\n",
       "      <td>0.281942</td>\n",
       "      <td>1</td>\n",
       "      <td>0.088580</td>\n",
       "    </tr>\n",
       "    <tr>\n",
       "      <th>9171</th>\n",
       "      <td>0</td>\n",
       "      <td>0.312500</td>\n",
       "      <td>0.334707</td>\n",
       "      <td>0.429285</td>\n",
       "      <td>0.627469</td>\n",
       "      <td>0.210526</td>\n",
       "      <td>0.439829</td>\n",
       "      <td>0.559322</td>\n",
       "      <td>0.274708</td>\n",
       "      <td>0.750133</td>\n",
       "      <td>...</td>\n",
       "      <td>0.214596</td>\n",
       "      <td>0.193440</td>\n",
       "      <td>0.260189</td>\n",
       "      <td>0.245175</td>\n",
       "      <td>0.000000</td>\n",
       "      <td>1.0</td>\n",
       "      <td>0.354034</td>\n",
       "      <td>0.383804</td>\n",
       "      <td>1</td>\n",
       "      <td>0.118494</td>\n",
       "    </tr>\n",
       "    <tr>\n",
       "      <th>5490</th>\n",
       "      <td>0</td>\n",
       "      <td>0.193452</td>\n",
       "      <td>0.175379</td>\n",
       "      <td>0.267773</td>\n",
       "      <td>0.832779</td>\n",
       "      <td>0.078947</td>\n",
       "      <td>0.380371</td>\n",
       "      <td>0.720339</td>\n",
       "      <td>0.246693</td>\n",
       "      <td>0.860117</td>\n",
       "      <td>...</td>\n",
       "      <td>0.166337</td>\n",
       "      <td>0.153908</td>\n",
       "      <td>0.226951</td>\n",
       "      <td>0.198679</td>\n",
       "      <td>0.632456</td>\n",
       "      <td>0.8</td>\n",
       "      <td>0.525118</td>\n",
       "      <td>0.487710</td>\n",
       "      <td>0</td>\n",
       "      <td>0.194387</td>\n",
       "    </tr>\n",
       "  </tbody>\n",
       "</table>\n",
       "<p>5 rows × 36 columns</p>\n",
       "</div>"
      ],
      "text/plain": [
       "       label1       a11        a4       a15       a21       a17        a3  \\\n",
       "3023        0  0.424107  0.406806  0.499623  0.682674  0.394737  0.333067   \n",
       "15300       0  0.596726  0.577274  0.632944  0.413792  0.684211  0.617632   \n",
       "10017       0  0.291667  0.284843  0.387234  0.631824  0.342105  0.432753   \n",
       "9171        0  0.312500  0.334707  0.429285  0.627469  0.210526  0.439829   \n",
       "5490        0  0.193452  0.175379  0.267773  0.832779  0.078947  0.380371   \n",
       "\n",
       "            a20        a2       a12    ...           a9        s9       a14  \\\n",
       "3023   0.705508  0.374319  0.663107    ...     0.144858  0.157677  0.191214   \n",
       "15300  0.370763  0.561868  0.452216    ...     0.134124  0.133447  0.162950   \n",
       "10017  0.718220  0.363424  0.739455    ...     0.247818  0.230548  0.285965   \n",
       "9171   0.559322  0.274708  0.750133    ...     0.214596  0.193440  0.260189   \n",
       "5490   0.720339  0.246693  0.860117    ...     0.166337  0.153908  0.226951   \n",
       "\n",
       "            s14       sd6   a6       sd9      sd14  s6      sd13  \n",
       "3023   0.190422  0.000000  1.0  0.262928  0.146316   1  0.038018  \n",
       "15300  0.164981  0.000000  1.0  0.249497  0.391640   1  0.196500  \n",
       "10017  0.302921  0.632456  0.8  0.367258  0.281942   1  0.088580  \n",
       "9171   0.245175  0.000000  1.0  0.354034  0.383804   1  0.118494  \n",
       "5490   0.198679  0.632456  0.8  0.525118  0.487710   0  0.194387  \n",
       "\n",
       "[5 rows x 36 columns]"
      ]
     },
     "execution_count": 7,
     "metadata": {},
     "output_type": "execute_result"
    }
   ],
   "source": [
    "train.head()"
   ]
  },
  {
   "cell_type": "code",
   "execution_count": 8,
   "metadata": {
    "collapsed": true
   },
   "outputs": [],
   "source": [
    "y_train=train['label1']"
   ]
  },
  {
   "cell_type": "code",
   "execution_count": 9,
   "metadata": {
    "collapsed": true
   },
   "outputs": [],
   "source": [
    "train=train.drop(['label1'],axis=1)"
   ]
  },
  {
   "cell_type": "code",
   "execution_count": 11,
   "metadata": {},
   "outputs": [
    {
     "data": {
      "text/html": [
       "<div>\n",
       "<style>\n",
       "    .dataframe thead tr:only-child th {\n",
       "        text-align: right;\n",
       "    }\n",
       "\n",
       "    .dataframe thead th {\n",
       "        text-align: left;\n",
       "    }\n",
       "\n",
       "    .dataframe tbody tr th {\n",
       "        vertical-align: top;\n",
       "    }\n",
       "</style>\n",
       "<table border=\"1\" class=\"dataframe\">\n",
       "  <thead>\n",
       "    <tr style=\"text-align: right;\">\n",
       "      <th></th>\n",
       "      <th>a11</th>\n",
       "      <th>a4</th>\n",
       "      <th>a15</th>\n",
       "      <th>a21</th>\n",
       "      <th>a17</th>\n",
       "      <th>a3</th>\n",
       "      <th>a20</th>\n",
       "      <th>a2</th>\n",
       "      <th>a12</th>\n",
       "      <th>a7</th>\n",
       "      <th>...</th>\n",
       "      <th>a9</th>\n",
       "      <th>s9</th>\n",
       "      <th>a14</th>\n",
       "      <th>s14</th>\n",
       "      <th>sd6</th>\n",
       "      <th>a6</th>\n",
       "      <th>sd9</th>\n",
       "      <th>sd14</th>\n",
       "      <th>s6</th>\n",
       "      <th>sd13</th>\n",
       "    </tr>\n",
       "  </thead>\n",
       "  <tbody>\n",
       "    <tr>\n",
       "      <th>3023</th>\n",
       "      <td>0.424107</td>\n",
       "      <td>0.406806</td>\n",
       "      <td>0.499623</td>\n",
       "      <td>0.682674</td>\n",
       "      <td>0.394737</td>\n",
       "      <td>0.333067</td>\n",
       "      <td>0.705508</td>\n",
       "      <td>0.374319</td>\n",
       "      <td>0.663107</td>\n",
       "      <td>0.646053</td>\n",
       "      <td>...</td>\n",
       "      <td>0.144858</td>\n",
       "      <td>0.157677</td>\n",
       "      <td>0.191214</td>\n",
       "      <td>0.190422</td>\n",
       "      <td>0.000000</td>\n",
       "      <td>1.0</td>\n",
       "      <td>0.262928</td>\n",
       "      <td>0.146316</td>\n",
       "      <td>1</td>\n",
       "      <td>0.038018</td>\n",
       "    </tr>\n",
       "    <tr>\n",
       "      <th>15300</th>\n",
       "      <td>0.596726</td>\n",
       "      <td>0.577274</td>\n",
       "      <td>0.632944</td>\n",
       "      <td>0.413792</td>\n",
       "      <td>0.684211</td>\n",
       "      <td>0.617632</td>\n",
       "      <td>0.370763</td>\n",
       "      <td>0.561868</td>\n",
       "      <td>0.452216</td>\n",
       "      <td>0.371930</td>\n",
       "      <td>...</td>\n",
       "      <td>0.134124</td>\n",
       "      <td>0.133447</td>\n",
       "      <td>0.162950</td>\n",
       "      <td>0.164981</td>\n",
       "      <td>0.000000</td>\n",
       "      <td>1.0</td>\n",
       "      <td>0.249497</td>\n",
       "      <td>0.391640</td>\n",
       "      <td>1</td>\n",
       "      <td>0.196500</td>\n",
       "    </tr>\n",
       "    <tr>\n",
       "      <th>10017</th>\n",
       "      <td>0.291667</td>\n",
       "      <td>0.284843</td>\n",
       "      <td>0.387234</td>\n",
       "      <td>0.631824</td>\n",
       "      <td>0.342105</td>\n",
       "      <td>0.432753</td>\n",
       "      <td>0.718220</td>\n",
       "      <td>0.363424</td>\n",
       "      <td>0.739455</td>\n",
       "      <td>0.765351</td>\n",
       "      <td>...</td>\n",
       "      <td>0.247818</td>\n",
       "      <td>0.230548</td>\n",
       "      <td>0.285965</td>\n",
       "      <td>0.302921</td>\n",
       "      <td>0.632456</td>\n",
       "      <td>0.8</td>\n",
       "      <td>0.367258</td>\n",
       "      <td>0.281942</td>\n",
       "      <td>1</td>\n",
       "      <td>0.088580</td>\n",
       "    </tr>\n",
       "    <tr>\n",
       "      <th>9171</th>\n",
       "      <td>0.312500</td>\n",
       "      <td>0.334707</td>\n",
       "      <td>0.429285</td>\n",
       "      <td>0.627469</td>\n",
       "      <td>0.210526</td>\n",
       "      <td>0.439829</td>\n",
       "      <td>0.559322</td>\n",
       "      <td>0.274708</td>\n",
       "      <td>0.750133</td>\n",
       "      <td>0.605263</td>\n",
       "      <td>...</td>\n",
       "      <td>0.214596</td>\n",
       "      <td>0.193440</td>\n",
       "      <td>0.260189</td>\n",
       "      <td>0.245175</td>\n",
       "      <td>0.000000</td>\n",
       "      <td>1.0</td>\n",
       "      <td>0.354034</td>\n",
       "      <td>0.383804</td>\n",
       "      <td>1</td>\n",
       "      <td>0.118494</td>\n",
       "    </tr>\n",
       "    <tr>\n",
       "      <th>5490</th>\n",
       "      <td>0.193452</td>\n",
       "      <td>0.175379</td>\n",
       "      <td>0.267773</td>\n",
       "      <td>0.832779</td>\n",
       "      <td>0.078947</td>\n",
       "      <td>0.380371</td>\n",
       "      <td>0.720339</td>\n",
       "      <td>0.246693</td>\n",
       "      <td>0.860117</td>\n",
       "      <td>0.785088</td>\n",
       "      <td>...</td>\n",
       "      <td>0.166337</td>\n",
       "      <td>0.153908</td>\n",
       "      <td>0.226951</td>\n",
       "      <td>0.198679</td>\n",
       "      <td>0.632456</td>\n",
       "      <td>0.8</td>\n",
       "      <td>0.525118</td>\n",
       "      <td>0.487710</td>\n",
       "      <td>0</td>\n",
       "      <td>0.194387</td>\n",
       "    </tr>\n",
       "  </tbody>\n",
       "</table>\n",
       "<p>5 rows × 35 columns</p>\n",
       "</div>"
      ],
      "text/plain": [
       "            a11        a4       a15       a21       a17        a3       a20  \\\n",
       "3023   0.424107  0.406806  0.499623  0.682674  0.394737  0.333067  0.705508   \n",
       "15300  0.596726  0.577274  0.632944  0.413792  0.684211  0.617632  0.370763   \n",
       "10017  0.291667  0.284843  0.387234  0.631824  0.342105  0.432753  0.718220   \n",
       "9171   0.312500  0.334707  0.429285  0.627469  0.210526  0.439829  0.559322   \n",
       "5490   0.193452  0.175379  0.267773  0.832779  0.078947  0.380371  0.720339   \n",
       "\n",
       "             a2       a12        a7    ...           a9        s9       a14  \\\n",
       "3023   0.374319  0.663107  0.646053    ...     0.144858  0.157677  0.191214   \n",
       "15300  0.561868  0.452216  0.371930    ...     0.134124  0.133447  0.162950   \n",
       "10017  0.363424  0.739455  0.765351    ...     0.247818  0.230548  0.285965   \n",
       "9171   0.274708  0.750133  0.605263    ...     0.214596  0.193440  0.260189   \n",
       "5490   0.246693  0.860117  0.785088    ...     0.166337  0.153908  0.226951   \n",
       "\n",
       "            s14       sd6   a6       sd9      sd14  s6      sd13  \n",
       "3023   0.190422  0.000000  1.0  0.262928  0.146316   1  0.038018  \n",
       "15300  0.164981  0.000000  1.0  0.249497  0.391640   1  0.196500  \n",
       "10017  0.302921  0.632456  0.8  0.367258  0.281942   1  0.088580  \n",
       "9171   0.245175  0.000000  1.0  0.354034  0.383804   1  0.118494  \n",
       "5490   0.198679  0.632456  0.8  0.525118  0.487710   0  0.194387  \n",
       "\n",
       "[5 rows x 35 columns]"
      ]
     },
     "execution_count": 11,
     "metadata": {},
     "output_type": "execute_result"
    }
   ],
   "source": [
    "train.shape\n",
    "train.head()"
   ]
  },
  {
   "cell_type": "code",
   "execution_count": 12,
   "metadata": {
    "collapsed": true
   },
   "outputs": [],
   "source": [
    "X_train, X_test, y_train, y_test = train_test_split(train, y_train, test_size=0.05, random_state=42)"
   ]
  },
  {
   "cell_type": "code",
   "execution_count": 13,
   "metadata": {},
   "outputs": [
    {
     "name": "stdout",
     "output_type": "stream",
     "text": [
      "<class 'pandas.core.frame.DataFrame'>\n",
      "Int64Index: 19599 entries, 13198 to 15493\n",
      "Data columns (total 35 columns):\n",
      "a11      19599 non-null float64\n",
      "a4       19599 non-null float64\n",
      "a15      19599 non-null float64\n",
      "a21      19599 non-null float64\n",
      "a17      19599 non-null float64\n",
      "a3       19599 non-null float64\n",
      "a20      19599 non-null float64\n",
      "a2       19599 non-null float64\n",
      "a12      19599 non-null float64\n",
      "a7       19599 non-null float64\n",
      "s11      19599 non-null float64\n",
      "s4       19599 non-null float64\n",
      "s12      19599 non-null float64\n",
      "s7       19599 non-null float64\n",
      "s15      19599 non-null float64\n",
      "s21      19599 non-null float64\n",
      "s20      19599 non-null float64\n",
      "s17      19599 non-null float64\n",
      "s2       19599 non-null float64\n",
      "a8       19599 non-null float64\n",
      "a13      19599 non-null float64\n",
      "s3       19599 non-null float64\n",
      "s8       19599 non-null float64\n",
      "s13      19599 non-null float64\n",
      "cycle    19599 non-null float64\n",
      "a9       19599 non-null float64\n",
      "s9       19599 non-null float64\n",
      "a14      19599 non-null float64\n",
      "s14      19599 non-null float64\n",
      "sd6      19599 non-null float64\n",
      "a6       19599 non-null float64\n",
      "sd9      19599 non-null float64\n",
      "sd14     19599 non-null float64\n",
      "s6       19599 non-null int64\n",
      "sd13     19599 non-null float64\n",
      "dtypes: float64(34), int64(1)\n",
      "memory usage: 5.4 MB\n"
     ]
    }
   ],
   "source": [
    "X_train.info()"
   ]
  },
  {
   "cell_type": "code",
   "execution_count": 14,
   "metadata": {
    "collapsed": true
   },
   "outputs": [],
   "source": [
    "from sklearn.ensemble import RandomForestClassifier"
   ]
  },
  {
   "cell_type": "code",
   "execution_count": 15,
   "metadata": {
    "collapsed": true
   },
   "outputs": [],
   "source": [
    "from sklearn.metrics import accuracy_score"
   ]
  },
  {
   "cell_type": "code",
   "execution_count": 16,
   "metadata": {
    "collapsed": true
   },
   "outputs": [],
   "source": [
    "Decisionforest= RandomForestClassifier()"
   ]
  },
  {
   "cell_type": "code",
   "execution_count": 22,
   "metadata": {},
   "outputs": [
    {
     "data": {
      "text/plain": [
       "RandomForestClassifier(bootstrap=True, class_weight=None, criterion='gini',\n",
       "            max_depth=None, max_features='auto', max_leaf_nodes=None,\n",
       "            min_impurity_split=1e-07, min_samples_leaf=1,\n",
       "            min_samples_split=2, min_weight_fraction_leaf=0.0,\n",
       "            n_estimators=10, n_jobs=1, oob_score=False, random_state=None,\n",
       "            verbose=0, warm_start=False)"
      ]
     },
     "execution_count": 22,
     "metadata": {},
     "output_type": "execute_result"
    }
   ],
   "source": [
    "Decisionforest.fit(X_train,y_train)"
   ]
  },
  {
   "cell_type": "code",
   "execution_count": 23,
   "metadata": {
    "collapsed": true
   },
   "outputs": [],
   "source": [
    "pred=Decisionforest.predict(X_test)"
   ]
  },
  {
   "cell_type": "code",
   "execution_count": 24,
   "metadata": {},
   "outputs": [
    {
     "data": {
      "text/plain": [
       "0.9622093023255814"
      ]
     },
     "execution_count": 24,
     "metadata": {},
     "output_type": "execute_result"
    }
   ],
   "source": [
    "accuracy_score(y_test, pred)"
   ]
  },
  {
   "cell_type": "code",
   "execution_count": 25,
   "metadata": {},
   "outputs": [
    {
     "data": {
      "text/plain": [
       "0.9975508954538497"
      ]
     },
     "execution_count": 25,
     "metadata": {},
     "output_type": "execute_result"
    }
   ],
   "source": [
    "Decisionforest.score(X_train,y_train)"
   ]
  },
  {
   "cell_type": "code",
   "execution_count": 17,
   "metadata": {
    "collapsed": true
   },
   "outputs": [],
   "source": [
    "# import pickle\n",
    "# filename = 'GBR_model.sav'\n",
    "# pickle.dump(DecisionTree, open(filename, 'wb'))"
   ]
  },
  {
   "cell_type": "code",
   "execution_count": null,
   "metadata": {
    "collapsed": true
   },
   "outputs": [],
   "source": []
  }
 ],
 "metadata": {
  "kernelspec": {
   "display_name": "Python 3",
   "language": "python",
   "name": "python3"
  },
  "language_info": {
   "codemirror_mode": {
    "name": "ipython",
    "version": 3
   },
   "file_extension": ".py",
   "mimetype": "text/x-python",
   "name": "python",
   "nbconvert_exporter": "python",
   "pygments_lexer": "ipython3",
   "version": "3.6.1"
  }
 },
 "nbformat": 4,
 "nbformat_minor": 2
}
