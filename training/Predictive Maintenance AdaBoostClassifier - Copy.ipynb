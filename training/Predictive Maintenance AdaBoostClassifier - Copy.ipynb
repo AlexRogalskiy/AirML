{
 "cells": [
  {
   "cell_type": "code",
   "execution_count": 1,
   "metadata": {},
   "outputs": [],
   "source": [
    "import pandas as pd\n",
    "from sklearn.model_selection import train_test_split\n",
    "import numpy as np\n",
    "from sklearn.utils import shuffle"
   ]
  },
  {
   "cell_type": "code",
   "execution_count": 2,
   "metadata": {},
   "outputs": [],
   "source": [
    "train=pd.read_csv(\"filteredclassificationdata.csv\")"
   ]
  },
  {
   "cell_type": "code",
   "execution_count": 3,
   "metadata": {},
   "outputs": [
    {
     "data": {
      "text/html": [
       "<div>\n",
       "<style scoped>\n",
       "    .dataframe tbody tr th:only-of-type {\n",
       "        vertical-align: middle;\n",
       "    }\n",
       "\n",
       "    .dataframe tbody tr th {\n",
       "        vertical-align: top;\n",
       "    }\n",
       "\n",
       "    .dataframe thead th {\n",
       "        text-align: right;\n",
       "    }\n",
       "</style>\n",
       "<table border=\"1\" class=\"dataframe\">\n",
       "  <thead>\n",
       "    <tr style=\"text-align: right;\">\n",
       "      <th></th>\n",
       "      <th>label1</th>\n",
       "      <th>a11</th>\n",
       "      <th>a4</th>\n",
       "      <th>a15</th>\n",
       "      <th>a21</th>\n",
       "      <th>a17</th>\n",
       "      <th>a3</th>\n",
       "      <th>a20</th>\n",
       "      <th>a2</th>\n",
       "      <th>a12</th>\n",
       "      <th>...</th>\n",
       "      <th>a9</th>\n",
       "      <th>s9</th>\n",
       "      <th>a14</th>\n",
       "      <th>s14</th>\n",
       "      <th>sd6</th>\n",
       "      <th>a6</th>\n",
       "      <th>sd9</th>\n",
       "      <th>sd14</th>\n",
       "      <th>s6</th>\n",
       "      <th>sd13</th>\n",
       "    </tr>\n",
       "  </thead>\n",
       "  <tbody>\n",
       "    <tr>\n",
       "      <th>0</th>\n",
       "      <td>0</td>\n",
       "      <td>0.401786</td>\n",
       "      <td>0.289887</td>\n",
       "      <td>0.420517</td>\n",
       "      <td>0.778606</td>\n",
       "      <td>0.263158</td>\n",
       "      <td>0.475892</td>\n",
       "      <td>0.777542</td>\n",
       "      <td>0.143969</td>\n",
       "      <td>0.650294</td>\n",
       "      <td>...</td>\n",
       "      <td>0.094489</td>\n",
       "      <td>0.109755</td>\n",
       "      <td>0.197843</td>\n",
       "      <td>0.199608</td>\n",
       "      <td>0.0</td>\n",
       "      <td>1.0</td>\n",
       "      <td>0.000000</td>\n",
       "      <td>0.000000</td>\n",
       "      <td>1</td>\n",
       "      <td>0.000000</td>\n",
       "    </tr>\n",
       "    <tr>\n",
       "      <th>1</th>\n",
       "      <td>0</td>\n",
       "      <td>0.409226</td>\n",
       "      <td>0.317735</td>\n",
       "      <td>0.449510</td>\n",
       "      <td>0.782999</td>\n",
       "      <td>0.263158</td>\n",
       "      <td>0.506134</td>\n",
       "      <td>0.745763</td>\n",
       "      <td>0.208171</td>\n",
       "      <td>0.733049</td>\n",
       "      <td>...</td>\n",
       "      <td>0.089086</td>\n",
       "      <td>0.100242</td>\n",
       "      <td>0.177780</td>\n",
       "      <td>0.162813</td>\n",
       "      <td>0.0</td>\n",
       "      <td>1.0</td>\n",
       "      <td>0.118087</td>\n",
       "      <td>0.508246</td>\n",
       "      <td>1</td>\n",
       "      <td>0.160656</td>\n",
       "    </tr>\n",
       "    <tr>\n",
       "      <th>2</th>\n",
       "      <td>0</td>\n",
       "      <td>0.357143</td>\n",
       "      <td>0.334766</td>\n",
       "      <td>0.437174</td>\n",
       "      <td>0.733906</td>\n",
       "      <td>0.175439</td>\n",
       "      <td>0.479791</td>\n",
       "      <td>0.717514</td>\n",
       "      <td>0.255512</td>\n",
       "      <td>0.773091</td>\n",
       "      <td>...</td>\n",
       "      <td>0.102356</td>\n",
       "      <td>0.140043</td>\n",
       "      <td>0.174356</td>\n",
       "      <td>0.171793</td>\n",
       "      <td>0.0</td>\n",
       "      <td>1.0</td>\n",
       "      <td>0.364881</td>\n",
       "      <td>0.374753</td>\n",
       "      <td>1</td>\n",
       "      <td>0.120224</td>\n",
       "    </tr>\n",
       "    <tr>\n",
       "      <th>3</th>\n",
       "      <td>0</td>\n",
       "      <td>0.305060</td>\n",
       "      <td>0.330508</td>\n",
       "      <td>0.372549</td>\n",
       "      <td>0.723543</td>\n",
       "      <td>0.197368</td>\n",
       "      <td>0.429529</td>\n",
       "      <td>0.684852</td>\n",
       "      <td>0.279183</td>\n",
       "      <td>0.822477</td>\n",
       "      <td>...</td>\n",
       "      <td>0.104581</td>\n",
       "      <td>0.124518</td>\n",
       "      <td>0.173489</td>\n",
       "      <td>0.174889</td>\n",
       "      <td>0.0</td>\n",
       "      <td>1.0</td>\n",
       "      <td>0.305764</td>\n",
       "      <td>0.307559</td>\n",
       "      <td>1</td>\n",
       "      <td>0.133773</td>\n",
       "    </tr>\n",
       "    <tr>\n",
       "      <th>4</th>\n",
       "      <td>0</td>\n",
       "      <td>0.296131</td>\n",
       "      <td>0.347031</td>\n",
       "      <td>0.391477</td>\n",
       "      <td>0.728978</td>\n",
       "      <td>0.236842</td>\n",
       "      <td>0.399715</td>\n",
       "      <td>0.669492</td>\n",
       "      <td>0.294942</td>\n",
       "      <td>0.816337</td>\n",
       "      <td>...</td>\n",
       "      <td>0.111697</td>\n",
       "      <td>0.149960</td>\n",
       "      <td>0.172934</td>\n",
       "      <td>0.174734</td>\n",
       "      <td>0.0</td>\n",
       "      <td>1.0</td>\n",
       "      <td>0.361364</td>\n",
       "      <td>0.267278</td>\n",
       "      <td>1</td>\n",
       "      <td>0.117620</td>\n",
       "    </tr>\n",
       "  </tbody>\n",
       "</table>\n",
       "<p>5 rows × 36 columns</p>\n",
       "</div>"
      ],
      "text/plain": [
       "   label1       a11        a4       a15       a21       a17        a3  \\\n",
       "0       0  0.401786  0.289887  0.420517  0.778606  0.263158  0.475892   \n",
       "1       0  0.409226  0.317735  0.449510  0.782999  0.263158  0.506134   \n",
       "2       0  0.357143  0.334766  0.437174  0.733906  0.175439  0.479791   \n",
       "3       0  0.305060  0.330508  0.372549  0.723543  0.197368  0.429529   \n",
       "4       0  0.296131  0.347031  0.391477  0.728978  0.236842  0.399715   \n",
       "\n",
       "        a20        a2       a12    ...           a9        s9       a14  \\\n",
       "0  0.777542  0.143969  0.650294    ...     0.094489  0.109755  0.197843   \n",
       "1  0.745763  0.208171  0.733049    ...     0.089086  0.100242  0.177780   \n",
       "2  0.717514  0.255512  0.773091    ...     0.102356  0.140043  0.174356   \n",
       "3  0.684852  0.279183  0.822477    ...     0.104581  0.124518  0.173489   \n",
       "4  0.669492  0.294942  0.816337    ...     0.111697  0.149960  0.172934   \n",
       "\n",
       "        s14  sd6   a6       sd9      sd14  s6      sd13  \n",
       "0  0.199608  0.0  1.0  0.000000  0.000000   1  0.000000  \n",
       "1  0.162813  0.0  1.0  0.118087  0.508246   1  0.160656  \n",
       "2  0.171793  0.0  1.0  0.364881  0.374753   1  0.120224  \n",
       "3  0.174889  0.0  1.0  0.305764  0.307559   1  0.133773  \n",
       "4  0.174734  0.0  1.0  0.361364  0.267278   1  0.117620  \n",
       "\n",
       "[5 rows x 36 columns]"
      ]
     },
     "execution_count": 3,
     "metadata": {},
     "output_type": "execute_result"
    }
   ],
   "source": [
    "train.head()"
   ]
  },
  {
   "cell_type": "code",
   "execution_count": 4,
   "metadata": {},
   "outputs": [],
   "source": [
    "train = shuffle(train)"
   ]
  },
  {
   "cell_type": "code",
   "execution_count": 5,
   "metadata": {},
   "outputs": [
    {
     "data": {
      "text/plain": [
       "Index(['label1', 'a11', 'a4', 'a15', 'a21', 'a17', 'a3', 'a20', 'a2', 'a12',\n",
       "       'a7', 's11', 's4', 's12', 's7', 's15', 's21', 's20', 's17', 's2', 'a8',\n",
       "       'a13', 's3', 's8', 's13', 'cycle', 'a9', 's9', 'a14', 's14', 'sd6',\n",
       "       'a6', 'sd9', 'sd14', 's6', 'sd13'],\n",
       "      dtype='object')"
      ]
     },
     "execution_count": 5,
     "metadata": {},
     "output_type": "execute_result"
    }
   ],
   "source": [
    "train.columns"
   ]
  },
  {
   "cell_type": "code",
   "execution_count": 6,
   "metadata": {},
   "outputs": [],
   "source": [
    "y_train=train['label1']"
   ]
  },
  {
   "cell_type": "code",
   "execution_count": 7,
   "metadata": {},
   "outputs": [],
   "source": [
    "train=train.drop(['label1'],axis=1)"
   ]
  },
  {
   "cell_type": "code",
   "execution_count": 8,
   "metadata": {},
   "outputs": [],
   "source": [
    "X_train, X_test, y_train, y_test = train_test_split(train, y_train, test_size=0.05, random_state=42)"
   ]
  },
  {
   "cell_type": "code",
   "execution_count": 9,
   "metadata": {},
   "outputs": [
    {
     "name": "stdout",
     "output_type": "stream",
     "text": [
      "<class 'pandas.core.frame.DataFrame'>\n",
      "Int64Index: 19599 entries, 11436 to 19803\n",
      "Data columns (total 35 columns):\n",
      "a11      19599 non-null float64\n",
      "a4       19599 non-null float64\n",
      "a15      19599 non-null float64\n",
      "a21      19599 non-null float64\n",
      "a17      19599 non-null float64\n",
      "a3       19599 non-null float64\n",
      "a20      19599 non-null float64\n",
      "a2       19599 non-null float64\n",
      "a12      19599 non-null float64\n",
      "a7       19599 non-null float64\n",
      "s11      19599 non-null float64\n",
      "s4       19599 non-null float64\n",
      "s12      19599 non-null float64\n",
      "s7       19599 non-null float64\n",
      "s15      19599 non-null float64\n",
      "s21      19599 non-null float64\n",
      "s20      19599 non-null float64\n",
      "s17      19599 non-null float64\n",
      "s2       19599 non-null float64\n",
      "a8       19599 non-null float64\n",
      "a13      19599 non-null float64\n",
      "s3       19599 non-null float64\n",
      "s8       19599 non-null float64\n",
      "s13      19599 non-null float64\n",
      "cycle    19599 non-null float64\n",
      "a9       19599 non-null float64\n",
      "s9       19599 non-null float64\n",
      "a14      19599 non-null float64\n",
      "s14      19599 non-null float64\n",
      "sd6      19599 non-null float64\n",
      "a6       19599 non-null float64\n",
      "sd9      19599 non-null float64\n",
      "sd14     19599 non-null float64\n",
      "s6       19599 non-null int64\n",
      "sd13     19599 non-null float64\n",
      "dtypes: float64(34), int64(1)\n",
      "memory usage: 5.4 MB\n"
     ]
    }
   ],
   "source": [
    "X_train.info()"
   ]
  },
  {
   "cell_type": "code",
   "execution_count": 10,
   "metadata": {},
   "outputs": [],
   "source": [
    "from sklearn.neural_network import MLPClassifier"
   ]
  },
  {
   "cell_type": "code",
   "execution_count": 11,
   "metadata": {},
   "outputs": [],
   "source": [
    "from sklearn.metrics import accuracy_score"
   ]
  },
  {
   "cell_type": "code",
   "execution_count": 12,
   "metadata": {},
   "outputs": [],
   "source": [
    "n_network= MLPClassifier()"
   ]
  },
  {
   "cell_type": "code",
   "execution_count": 13,
   "metadata": {},
   "outputs": [
    {
     "data": {
      "text/plain": [
       "MLPClassifier(activation='relu', alpha=0.0001, batch_size='auto', beta_1=0.9,\n",
       "       beta_2=0.999, early_stopping=False, epsilon=1e-08,\n",
       "       hidden_layer_sizes=(100,), learning_rate='constant',\n",
       "       learning_rate_init=0.001, max_iter=200, momentum=0.9,\n",
       "       n_iter_no_change=10, nesterovs_momentum=True, power_t=0.5,\n",
       "       random_state=None, shuffle=True, solver='adam', tol=0.0001,\n",
       "       validation_fraction=0.1, verbose=False, warm_start=False)"
      ]
     },
     "execution_count": 13,
     "metadata": {},
     "output_type": "execute_result"
    }
   ],
   "source": [
    "n_network.fit(X_train,y_train)"
   ]
  },
  {
   "cell_type": "code",
   "execution_count": 14,
   "metadata": {},
   "outputs": [],
   "source": [
    "pred=n_network.predict(X_test)"
   ]
  },
  {
   "cell_type": "code",
   "execution_count": 15,
   "metadata": {},
   "outputs": [
    {
     "data": {
      "text/plain": [
       "0.9563953488372093"
      ]
     },
     "execution_count": 15,
     "metadata": {},
     "output_type": "execute_result"
    }
   ],
   "source": [
    "accuracy_score(y_test, pred)"
   ]
  },
  {
   "cell_type": "code",
   "execution_count": 16,
   "metadata": {},
   "outputs": [
    {
     "data": {
      "text/plain": [
       "0.9672942497066177"
      ]
     },
     "execution_count": 16,
     "metadata": {},
     "output_type": "execute_result"
    }
   ],
   "source": [
    "n_network.score(X_train,y_train)"
   ]
  },
  {
   "cell_type": "code",
   "execution_count": 17,
   "metadata": {},
   "outputs": [],
   "source": [
    "# import pickle\n",
    "# filename = 'rf_model.sav'\n",
    "# pickle.dump(DecisionTree, open(filename, 'wb'))"
   ]
  },
  {
   "cell_type": "code",
   "execution_count": null,
   "metadata": {},
   "outputs": [],
   "source": []
  }
 ],
 "metadata": {
  "kernelspec": {
   "display_name": "Python 3",
   "language": "python",
   "name": "python3"
  },
  "language_info": {
   "codemirror_mode": {
    "name": "ipython",
    "version": 3
   },
   "file_extension": ".py",
   "mimetype": "text/x-python",
   "name": "python",
   "nbconvert_exporter": "python",
   "pygments_lexer": "ipython3",
   "version": "3.7.1"
  }
 },
 "nbformat": 4,
 "nbformat_minor": 2
}
